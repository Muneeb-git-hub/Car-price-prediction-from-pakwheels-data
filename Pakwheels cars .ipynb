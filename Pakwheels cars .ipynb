{
 "cells": [
  {
   "cell_type": "code",
   "execution_count": 8,
   "id": "4414b70d-a320-4a02-997d-1e692fd8089f",
   "metadata": {},
   "outputs": [],
   "source": [
    "import pandas as pd \n",
    "import numpy as np"
   ]
  },
  {
   "cell_type": "code",
   "execution_count": 9,
   "id": "f9f3e34f-0550-4860-b5a6-4ffb78dc1814",
   "metadata": {},
   "outputs": [],
   "source": [
    "df=pd.read_csv('PakistanUsedCarsData (1).csv')"
   ]
  },
  {
   "cell_type": "code",
   "execution_count": 10,
   "id": "982bbded-fee9-4337-b3d4-d6939179ce9a",
   "metadata": {},
   "outputs": [
    {
     "data": {
      "text/html": [
       "<div>\n",
       "<style scoped>\n",
       "    .dataframe tbody tr th:only-of-type {\n",
       "        vertical-align: middle;\n",
       "    }\n",
       "\n",
       "    .dataframe tbody tr th {\n",
       "        vertical-align: top;\n",
       "    }\n",
       "\n",
       "    .dataframe thead th {\n",
       "        text-align: right;\n",
       "    }\n",
       "</style>\n",
       "<table border=\"1\" class=\"dataframe\">\n",
       "  <thead>\n",
       "    <tr style=\"text-align: right;\">\n",
       "      <th></th>\n",
       "      <th>Title</th>\n",
       "      <th>Mileage</th>\n",
       "      <th>Model</th>\n",
       "      <th>Color</th>\n",
       "      <th>BodyType</th>\n",
       "      <th>EngineCapacity</th>\n",
       "      <th>FuelType</th>\n",
       "      <th>Transmission</th>\n",
       "      <th>RegisteredIn</th>\n",
       "      <th>Assembly</th>\n",
       "      <th>Price</th>\n",
       "      <th>Location</th>\n",
       "      <th>LastUpdated</th>\n",
       "      <th>ReferenceNo</th>\n",
       "    </tr>\n",
       "  </thead>\n",
       "  <tbody>\n",
       "    <tr>\n",
       "      <th>0</th>\n",
       "      <td>Toyota Yaris Sedan ATIV MT 1.3 2025</td>\n",
       "      <td>30 km</td>\n",
       "      <td>2025.0</td>\n",
       "      <td>White</td>\n",
       "      <td>Sedan</td>\n",
       "      <td>1300 cc</td>\n",
       "      <td>Petrol</td>\n",
       "      <td>Manual</td>\n",
       "      <td>Un-Registered</td>\n",
       "      <td>Local</td>\n",
       "      <td>PKR 51 lacs</td>\n",
       "      <td>Lahore Punjab</td>\n",
       "      <td>Jun 30, 2025</td>\n",
       "      <td>10262585.0</td>\n",
       "    </tr>\n",
       "    <tr>\n",
       "      <th>1</th>\n",
       "      <td>Honda Civic 1.5 VTEC Turbo Oriel 2020</td>\n",
       "      <td>72,000 km</td>\n",
       "      <td>2020.0</td>\n",
       "      <td>Crystal Black Pearl</td>\n",
       "      <td>Sedan</td>\n",
       "      <td>1500 cc</td>\n",
       "      <td>Petrol</td>\n",
       "      <td>Automatic</td>\n",
       "      <td>Islamabad</td>\n",
       "      <td>Local</td>\n",
       "      <td>PKR 65.75 lacs</td>\n",
       "      <td>Shadman, Lahore Punjab</td>\n",
       "      <td>Jun 30, 2025</td>\n",
       "      <td>10138164.0</td>\n",
       "    </tr>\n",
       "    <tr>\n",
       "      <th>2</th>\n",
       "      <td>BMW 5 Series 520d 2012</td>\n",
       "      <td>136,862 km</td>\n",
       "      <td>2012.0</td>\n",
       "      <td>White</td>\n",
       "      <td>Sedan</td>\n",
       "      <td>2000 cc</td>\n",
       "      <td>Diesel</td>\n",
       "      <td>Automatic</td>\n",
       "      <td>Islamabad</td>\n",
       "      <td>Local</td>\n",
       "      <td>PKR 1.2 crore</td>\n",
       "      <td>I- 9, Islamabad Islamabad</td>\n",
       "      <td>Jun 30, 2025</td>\n",
       "      <td>9887693.0</td>\n",
       "    </tr>\n",
       "    <tr>\n",
       "      <th>3</th>\n",
       "      <td>Audi A6 1.8 TFSI Business Class Edition 2015</td>\n",
       "      <td>90,768 km</td>\n",
       "      <td>2015.0</td>\n",
       "      <td>Black</td>\n",
       "      <td>Sedan</td>\n",
       "      <td>1800 cc</td>\n",
       "      <td>Petrol</td>\n",
       "      <td>Automatic</td>\n",
       "      <td>Islamabad</td>\n",
       "      <td>Imported</td>\n",
       "      <td>PKR 1.07 crore</td>\n",
       "      <td>Defence Phase-2, Islamabad Islamabad</td>\n",
       "      <td>Jun 30, 2025</td>\n",
       "      <td>10262536.0</td>\n",
       "    </tr>\n",
       "    <tr>\n",
       "      <th>4</th>\n",
       "      <td>Toyota Corolla GLi 1.3 VVTi Special Edition 2019</td>\n",
       "      <td>90,000 km</td>\n",
       "      <td>2019.0</td>\n",
       "      <td>Super White</td>\n",
       "      <td>Sedan</td>\n",
       "      <td>1300 cc</td>\n",
       "      <td>Petrol</td>\n",
       "      <td>Manual</td>\n",
       "      <td>Punjab</td>\n",
       "      <td>Local</td>\n",
       "      <td>PKR 42.5 lacs</td>\n",
       "      <td>Satiana Road, Faisalabad Punjab</td>\n",
       "      <td>Jun 30, 2025</td>\n",
       "      <td>10257615.0</td>\n",
       "    </tr>\n",
       "  </tbody>\n",
       "</table>\n",
       "</div>"
      ],
      "text/plain": [
       "                                              Title     Mileage   Model  \\\n",
       "0               Toyota Yaris Sedan ATIV MT 1.3 2025       30 km  2025.0   \n",
       "1             Honda Civic 1.5 VTEC Turbo Oriel 2020   72,000 km  2020.0   \n",
       "2                            BMW 5 Series 520d 2012  136,862 km  2012.0   \n",
       "3      Audi A6 1.8 TFSI Business Class Edition 2015   90,768 km  2015.0   \n",
       "4  Toyota Corolla GLi 1.3 VVTi Special Edition 2019   90,000 km  2019.0   \n",
       "\n",
       "                 Color BodyType EngineCapacity FuelType Transmission  \\\n",
       "0                White    Sedan        1300 cc   Petrol       Manual   \n",
       "1  Crystal Black Pearl    Sedan        1500 cc   Petrol    Automatic   \n",
       "2                White    Sedan        2000 cc   Diesel    Automatic   \n",
       "3                Black    Sedan        1800 cc   Petrol    Automatic   \n",
       "4          Super White    Sedan        1300 cc   Petrol       Manual   \n",
       "\n",
       "    RegisteredIn  Assembly           Price  \\\n",
       "0  Un-Registered     Local     PKR 51 lacs   \n",
       "1      Islamabad     Local  PKR 65.75 lacs   \n",
       "2      Islamabad     Local   PKR 1.2 crore   \n",
       "3      Islamabad  Imported  PKR 1.07 crore   \n",
       "4         Punjab     Local   PKR 42.5 lacs   \n",
       "\n",
       "                               Location   LastUpdated  ReferenceNo  \n",
       "0                         Lahore Punjab  Jun 30, 2025   10262585.0  \n",
       "1                Shadman, Lahore Punjab  Jun 30, 2025   10138164.0  \n",
       "2             I- 9, Islamabad Islamabad  Jun 30, 2025    9887693.0  \n",
       "3  Defence Phase-2, Islamabad Islamabad  Jun 30, 2025   10262536.0  \n",
       "4       Satiana Road, Faisalabad Punjab  Jun 30, 2025   10257615.0  "
      ]
     },
     "execution_count": 10,
     "metadata": {},
     "output_type": "execute_result"
    }
   ],
   "source": [
    "df.head()"
   ]
  },
  {
   "cell_type": "code",
   "execution_count": 11,
   "id": "d4c1682e-5eec-409b-a72d-c72fc2bf32e3",
   "metadata": {},
   "outputs": [],
   "source": [
    "df.drop(columns=['RegisteredIn','Location','LastUpdated','ReferenceNo','BodyType'],inplace=True)"
   ]
  },
  {
   "cell_type": "code",
   "execution_count": 54,
   "id": "3ff1b797-e275-4129-a6da-e42e4038c9f8",
   "metadata": {},
   "outputs": [
    {
     "data": {
      "text/html": [
       "<div>\n",
       "<style scoped>\n",
       "    .dataframe tbody tr th:only-of-type {\n",
       "        vertical-align: middle;\n",
       "    }\n",
       "\n",
       "    .dataframe tbody tr th {\n",
       "        vertical-align: top;\n",
       "    }\n",
       "\n",
       "    .dataframe thead th {\n",
       "        text-align: right;\n",
       "    }\n",
       "</style>\n",
       "<table border=\"1\" class=\"dataframe\">\n",
       "  <thead>\n",
       "    <tr style=\"text-align: right;\">\n",
       "      <th></th>\n",
       "      <th>Title</th>\n",
       "      <th>Mileage</th>\n",
       "      <th>Model</th>\n",
       "      <th>Color</th>\n",
       "      <th>EngineCapacity</th>\n",
       "      <th>FuelType</th>\n",
       "      <th>Transmission</th>\n",
       "      <th>Assembly</th>\n",
       "      <th>Price</th>\n",
       "    </tr>\n",
       "  </thead>\n",
       "  <tbody>\n",
       "    <tr>\n",
       "      <th>925</th>\n",
       "      <td>Nissan Dayz X</td>\n",
       "      <td>25915</td>\n",
       "      <td>2022</td>\n",
       "      <td>Silver</td>\n",
       "      <td>660</td>\n",
       "      <td>Petrol</td>\n",
       "      <td>Automatic</td>\n",
       "      <td>Imported</td>\n",
       "      <td>3350000</td>\n",
       "    </tr>\n",
       "    <tr>\n",
       "      <th>2770</th>\n",
       "      <td>Toyota Corolla GLi</td>\n",
       "      <td>80000</td>\n",
       "      <td>2017</td>\n",
       "      <td>White</td>\n",
       "      <td>1300</td>\n",
       "      <td>Petrol</td>\n",
       "      <td>Manual</td>\n",
       "      <td>Local</td>\n",
       "      <td>4100000</td>\n",
       "    </tr>\n",
       "    <tr>\n",
       "      <th>219</th>\n",
       "      <td>Suzuki Swift DLX</td>\n",
       "      <td>53602</td>\n",
       "      <td>2021</td>\n",
       "      <td>Pearl Red</td>\n",
       "      <td>1300</td>\n",
       "      <td>Petrol</td>\n",
       "      <td>Automatic</td>\n",
       "      <td>Local</td>\n",
       "      <td>3300000</td>\n",
       "    </tr>\n",
       "    <tr>\n",
       "      <th>1069</th>\n",
       "      <td>Nissan Sunny 1987</td>\n",
       "      <td>150000</td>\n",
       "      <td>1987</td>\n",
       "      <td>White</td>\n",
       "      <td>1000</td>\n",
       "      <td>Petrol</td>\n",
       "      <td>Manual</td>\n",
       "      <td>Local</td>\n",
       "      <td>570000</td>\n",
       "    </tr>\n",
       "    <tr>\n",
       "      <th>680</th>\n",
       "      <td>Ford Crown Victoria</td>\n",
       "      <td>95000</td>\n",
       "      <td>2006</td>\n",
       "      <td>Blue</td>\n",
       "      <td>2400</td>\n",
       "      <td>Petrol</td>\n",
       "      <td>Manual</td>\n",
       "      <td>Imported</td>\n",
       "      <td>5500000</td>\n",
       "    </tr>\n",
       "  </tbody>\n",
       "</table>\n",
       "</div>"
      ],
      "text/plain": [
       "                    Title  Mileage  Model      Color  EngineCapacity FuelType  \\\n",
       "925         Nissan Dayz X    25915   2022     Silver             660   Petrol   \n",
       "2770   Toyota Corolla GLi    80000   2017      White            1300   Petrol   \n",
       "219      Suzuki Swift DLX    53602   2021  Pearl Red            1300   Petrol   \n",
       "1069    Nissan Sunny 1987   150000   1987      White            1000   Petrol   \n",
       "680   Ford Crown Victoria    95000   2006       Blue            2400   Petrol   \n",
       "\n",
       "     Transmission  Assembly    Price  \n",
       "925     Automatic  Imported  3350000  \n",
       "2770       Manual     Local  4100000  \n",
       "219     Automatic     Local  3300000  \n",
       "1069       Manual     Local   570000  \n",
       "680        Manual  Imported  5500000  "
      ]
     },
     "execution_count": 54,
     "metadata": {},
     "output_type": "execute_result"
    }
   ],
   "source": [
    "df.sample(5)"
   ]
  },
  {
   "cell_type": "code",
   "execution_count": 13,
   "id": "abecf04d-a688-4ed0-82c7-3a424bbe26e7",
   "metadata": {},
   "outputs": [
    {
     "data": {
      "text/plain": [
       "(2938, 9)"
      ]
     },
     "execution_count": 13,
     "metadata": {},
     "output_type": "execute_result"
    }
   ],
   "source": [
    "df.shape"
   ]
  },
  {
   "cell_type": "code",
   "execution_count": 14,
   "id": "8ce465c1-2764-4919-ad8c-ac0278ad7f7c",
   "metadata": {},
   "outputs": [
    {
     "data": {
      "text/plain": [
       "<bound method Series.unique of 0          Manual\n",
       "1       Automatic\n",
       "2       Automatic\n",
       "3       Automatic\n",
       "4          Manual\n",
       "          ...    \n",
       "2933    Automatic\n",
       "2934       Manual\n",
       "2935       Manual\n",
       "2936       Manual\n",
       "2937    Automatic\n",
       "Name: Transmission, Length: 2938, dtype: object>"
      ]
     },
     "execution_count": 14,
     "metadata": {},
     "output_type": "execute_result"
    }
   ],
   "source": [
    "df['Transmission'].unique"
   ]
  },
  {
   "cell_type": "markdown",
   "id": "2a95beac-6729-463c-a8f0-443246d77033",
   "metadata": {},
   "source": [
    "<!-- # steps i have to do for cleaning the data\n",
    "# Title has some values missing\n",
    "# Milage from object to integers and milage has km\n",
    "# model float to integer\n",
    "# engine capacity to integer and remove cc and engine capacity has some missing value\n",
    "# prics from object to integer PKR 26.9 lacs to 2690000\n",
    "# we will keep first three words of name -->"
   ]
  },
  {
   "cell_type": "markdown",
   "id": "a1f5bf2e-5565-4eee-8d03-448b5639dbfe",
   "metadata": {},
   "source": [
    "# Cleaning"
   ]
  },
  {
   "cell_type": "code",
   "execution_count": 15,
   "id": "95f86560-01fb-4515-9a70-207f004fb573",
   "metadata": {},
   "outputs": [],
   "source": [
    "backup=df.copy()"
   ]
  },
  {
   "cell_type": "code",
   "execution_count": 16,
   "id": "8d0a6d6e-f125-4bc5-9c1d-71d61820b91e",
   "metadata": {},
   "outputs": [],
   "source": [
    "# title column\n",
    "df = df.dropna(subset=['Title'])\n"
   ]
  },
  {
   "cell_type": "code",
   "execution_count": 17,
   "id": "ecaaa629-20ee-4775-9695-9a587a69afaf",
   "metadata": {},
   "outputs": [],
   "source": [
    "# Model column\n",
    "df['Model'] = df['Model'].fillna(0)\n",
    "df['Model']=df['Model'].astype(int)"
   ]
  },
  {
   "cell_type": "code",
   "execution_count": 18,
   "id": "98d03dfb-76c4-4339-8f1e-a5fcd5b85b00",
   "metadata": {},
   "outputs": [],
   "source": [
    "# milage column\n",
    "df['Mileage']=df['Mileage'].str.replace('km','')\n",
    "df['Mileage']=df['Mileage'].str.replace(',','')\n",
    "df['Mileage']=df['Mileage'].fillna(0)\n",
    "df['Mileage']=df['Mileage'].astype(int)\n"
   ]
  },
  {
   "cell_type": "code",
   "execution_count": 19,
   "id": "6de604c7-2d25-46c8-8dd9-3dfdae075d1a",
   "metadata": {},
   "outputs": [
    {
     "name": "stdout",
     "output_type": "stream",
     "text": [
      "<class 'pandas.core.frame.DataFrame'>\n",
      "Index: 2926 entries, 0 to 2937\n",
      "Data columns (total 9 columns):\n",
      " #   Column          Non-Null Count  Dtype \n",
      "---  ------          --------------  ----- \n",
      " 0   Title           2926 non-null   object\n",
      " 1   Mileage         2926 non-null   int32 \n",
      " 2   Model           2926 non-null   int32 \n",
      " 3   Color           2926 non-null   object\n",
      " 4   EngineCapacity  2892 non-null   object\n",
      " 5   FuelType        2926 non-null   object\n",
      " 6   Transmission    2926 non-null   object\n",
      " 7   Assembly        2926 non-null   object\n",
      " 8   Price           2926 non-null   object\n",
      "dtypes: int32(2), object(7)\n",
      "memory usage: 205.7+ KB\n"
     ]
    }
   ],
   "source": [
    "df.info()"
   ]
  },
  {
   "cell_type": "code",
   "execution_count": 20,
   "id": "73d1425c-37c8-4072-8180-d91f7d6faddb",
   "metadata": {},
   "outputs": [],
   "source": [
    "# EngineCapacity column\n",
    "df['EngineCapacity']=df['EngineCapacity'].str.replace('cc','')\n",
    "df['EngineCapacity']=df['EngineCapacity'].fillna(0)\n",
    "df['EngineCapacity']=df['EngineCapacity'].astype(int)"
   ]
  },
  {
   "cell_type": "code",
   "execution_count": 21,
   "id": "bc57118d-f452-426d-9647-9d5b36f248d7",
   "metadata": {},
   "outputs": [],
   "source": [
    "# price column\n",
    "def to_number(p):\n",
    "    p = str(p).lower().replace('pkr', '').replace(',', '').strip()\n",
    "    if 'call' in p:\n",
    "        return None\n",
    "    elif 'crore' in p:\n",
    "        return float(p.replace('crore', '').strip()) * 10000000\n",
    "    elif 'lac' in p:\n",
    "        return float(p.replace('lacs', '').replace('lac', '').strip()) * 100000\n",
    "    else:\n",
    "        try:\n",
    "            return float(p)\n",
    "        except:\n",
    "            return None\n",
    "\n",
    "df['Price'] = df['Price'].apply(to_number)\n",
    "df = df.dropna(subset=['Price'])\n",
    "df['Price'] = df['Price'].astype(int)"
   ]
  },
  {
   "cell_type": "code",
   "execution_count": 22,
   "id": "3d21191f-06c6-406c-9e92-c30e446e7493",
   "metadata": {},
   "outputs": [
    {
     "name": "stdout",
     "output_type": "stream",
     "text": [
      "<class 'pandas.core.frame.DataFrame'>\n",
      "Index: 2892 entries, 0 to 2937\n",
      "Data columns (total 9 columns):\n",
      " #   Column          Non-Null Count  Dtype \n",
      "---  ------          --------------  ----- \n",
      " 0   Title           2892 non-null   object\n",
      " 1   Mileage         2892 non-null   int32 \n",
      " 2   Model           2892 non-null   int32 \n",
      " 3   Color           2892 non-null   object\n",
      " 4   EngineCapacity  2892 non-null   int32 \n",
      " 5   FuelType        2892 non-null   object\n",
      " 6   Transmission    2892 non-null   object\n",
      " 7   Assembly        2892 non-null   object\n",
      " 8   Price           2892 non-null   int32 \n",
      "dtypes: int32(4), object(5)\n",
      "memory usage: 180.8+ KB\n"
     ]
    }
   ],
   "source": [
    "df.info()"
   ]
  },
  {
   "cell_type": "code",
   "execution_count": 23,
   "id": "c44b7903-1b25-4871-8c4b-b65f749ce7fc",
   "metadata": {},
   "outputs": [],
   "source": [
    "#tiltle column\n",
    "df['Title'] = df['Title'].astype(str).apply(lambda x: ' '.join(x.split()[:3]))\n"
   ]
  },
  {
   "cell_type": "code",
   "execution_count": 24,
   "id": "402cacdd-1d18-4e6e-b32f-33a6b45b5bd8",
   "metadata": {},
   "outputs": [
    {
     "data": {
      "text/html": [
       "<div>\n",
       "<style scoped>\n",
       "    .dataframe tbody tr th:only-of-type {\n",
       "        vertical-align: middle;\n",
       "    }\n",
       "\n",
       "    .dataframe tbody tr th {\n",
       "        vertical-align: top;\n",
       "    }\n",
       "\n",
       "    .dataframe thead th {\n",
       "        text-align: right;\n",
       "    }\n",
       "</style>\n",
       "<table border=\"1\" class=\"dataframe\">\n",
       "  <thead>\n",
       "    <tr style=\"text-align: right;\">\n",
       "      <th></th>\n",
       "      <th>Title</th>\n",
       "      <th>Mileage</th>\n",
       "      <th>Model</th>\n",
       "      <th>Color</th>\n",
       "      <th>EngineCapacity</th>\n",
       "      <th>FuelType</th>\n",
       "      <th>Transmission</th>\n",
       "      <th>Assembly</th>\n",
       "      <th>Price</th>\n",
       "    </tr>\n",
       "  </thead>\n",
       "  <tbody>\n",
       "    <tr>\n",
       "      <th>609</th>\n",
       "      <td>Suzuki Cultus VXR</td>\n",
       "      <td>75000</td>\n",
       "      <td>2005</td>\n",
       "      <td>White</td>\n",
       "      <td>1000</td>\n",
       "      <td>Petrol</td>\n",
       "      <td>Manual</td>\n",
       "      <td>Local</td>\n",
       "      <td>985000</td>\n",
       "    </tr>\n",
       "  </tbody>\n",
       "</table>\n",
       "</div>"
      ],
      "text/plain": [
       "                 Title  Mileage  Model  Color  EngineCapacity FuelType  \\\n",
       "609  Suzuki Cultus VXR    75000   2005  White            1000   Petrol   \n",
       "\n",
       "    Transmission Assembly   Price  \n",
       "609       Manual    Local  985000  "
      ]
     },
     "execution_count": 24,
     "metadata": {},
     "output_type": "execute_result"
    }
   ],
   "source": [
    "df.sample()"
   ]
  },
  {
   "cell_type": "code",
   "execution_count": 25,
   "id": "a8cb73dc-39de-4c73-945d-4955dbd366ab",
   "metadata": {},
   "outputs": [],
   "source": [
    "backup=df.copy()"
   ]
  },
  {
   "cell_type": "code",
   "execution_count": 26,
   "id": "7c6c8f26-c2d0-4de8-b5c6-bdc3d90c14f2",
   "metadata": {},
   "outputs": [],
   "source": [
    "df=backup"
   ]
  },
  {
   "cell_type": "code",
   "execution_count": 27,
   "id": "a5c4a343-1e8c-46d5-842c-c9b050c6f9d8",
   "metadata": {},
   "outputs": [],
   "source": [
    "df=df.reset_index(drop=True)"
   ]
  },
  {
   "cell_type": "code",
   "execution_count": 28,
   "id": "109c6952-ebb8-4b1f-bc50-48e47eacf7e6",
   "metadata": {},
   "outputs": [
    {
     "data": {
      "text/html": [
       "<div>\n",
       "<style scoped>\n",
       "    .dataframe tbody tr th:only-of-type {\n",
       "        vertical-align: middle;\n",
       "    }\n",
       "\n",
       "    .dataframe tbody tr th {\n",
       "        vertical-align: top;\n",
       "    }\n",
       "\n",
       "    .dataframe thead th {\n",
       "        text-align: right;\n",
       "    }\n",
       "</style>\n",
       "<table border=\"1\" class=\"dataframe\">\n",
       "  <thead>\n",
       "    <tr style=\"text-align: right;\">\n",
       "      <th></th>\n",
       "      <th>Mileage</th>\n",
       "      <th>Model</th>\n",
       "      <th>EngineCapacity</th>\n",
       "      <th>Price</th>\n",
       "    </tr>\n",
       "  </thead>\n",
       "  <tbody>\n",
       "    <tr>\n",
       "      <th>count</th>\n",
       "      <td>2892.000000</td>\n",
       "      <td>2892.000000</td>\n",
       "      <td>2892.000000</td>\n",
       "      <td>2.892000e+03</td>\n",
       "    </tr>\n",
       "    <tr>\n",
       "      <th>mean</th>\n",
       "      <td>95679.883817</td>\n",
       "      <td>2014.000692</td>\n",
       "      <td>1333.296680</td>\n",
       "      <td>4.297682e+06</td>\n",
       "    </tr>\n",
       "    <tr>\n",
       "      <th>std</th>\n",
       "      <td>85026.601843</td>\n",
       "      <td>8.239287</td>\n",
       "      <td>722.973725</td>\n",
       "      <td>5.827173e+06</td>\n",
       "    </tr>\n",
       "    <tr>\n",
       "      <th>min</th>\n",
       "      <td>1.000000</td>\n",
       "      <td>1956.000000</td>\n",
       "      <td>0.000000</td>\n",
       "      <td>1.149990e+05</td>\n",
       "    </tr>\n",
       "    <tr>\n",
       "      <th>25%</th>\n",
       "      <td>41655.500000</td>\n",
       "      <td>2009.000000</td>\n",
       "      <td>800.000000</td>\n",
       "      <td>1.825000e+06</td>\n",
       "    </tr>\n",
       "    <tr>\n",
       "      <th>50%</th>\n",
       "      <td>84002.000000</td>\n",
       "      <td>2016.000000</td>\n",
       "      <td>1300.000000</td>\n",
       "      <td>3.050000e+06</td>\n",
       "    </tr>\n",
       "    <tr>\n",
       "      <th>75%</th>\n",
       "      <td>126835.000000</td>\n",
       "      <td>2021.000000</td>\n",
       "      <td>1598.000000</td>\n",
       "      <td>4.981250e+06</td>\n",
       "    </tr>\n",
       "    <tr>\n",
       "      <th>max</th>\n",
       "      <td>1000000.000000</td>\n",
       "      <td>2025.000000</td>\n",
       "      <td>10000.000000</td>\n",
       "      <td>1.550000e+08</td>\n",
       "    </tr>\n",
       "  </tbody>\n",
       "</table>\n",
       "</div>"
      ],
      "text/plain": [
       "              Mileage        Model  EngineCapacity         Price\n",
       "count     2892.000000  2892.000000     2892.000000  2.892000e+03\n",
       "mean     95679.883817  2014.000692     1333.296680  4.297682e+06\n",
       "std      85026.601843     8.239287      722.973725  5.827173e+06\n",
       "min          1.000000  1956.000000        0.000000  1.149990e+05\n",
       "25%      41655.500000  2009.000000      800.000000  1.825000e+06\n",
       "50%      84002.000000  2016.000000     1300.000000  3.050000e+06\n",
       "75%     126835.000000  2021.000000     1598.000000  4.981250e+06\n",
       "max    1000000.000000  2025.000000    10000.000000  1.550000e+08"
      ]
     },
     "execution_count": 28,
     "metadata": {},
     "output_type": "execute_result"
    }
   ],
   "source": [
    "df.describe()"
   ]
  },
  {
   "cell_type": "code",
   "execution_count": 29,
   "id": "324e7605-05d5-4bdf-9cda-229b686c9b74",
   "metadata": {},
   "outputs": [
    {
     "data": {
      "text/plain": [
       "155000000"
      ]
     },
     "execution_count": 29,
     "metadata": {},
     "output_type": "execute_result"
    }
   ],
   "source": [
    "df['Price'].max()"
   ]
  },
  {
   "cell_type": "code",
   "execution_count": 30,
   "id": "3e4de94a-8d0e-4f17-96ae-6452e8bb8367",
   "metadata": {},
   "outputs": [],
   "source": [
    "df=df[df['Price']<7000000]"
   ]
  },
  {
   "cell_type": "code",
   "execution_count": 31,
   "id": "e9aa020f-c286-40a9-9b3c-9ee41676c081",
   "metadata": {},
   "outputs": [
    {
     "data": {
      "text/plain": [
       "(2544, 9)"
      ]
     },
     "execution_count": 31,
     "metadata": {},
     "output_type": "execute_result"
    }
   ],
   "source": [
    "df.shape"
   ]
  },
  {
   "cell_type": "code",
   "execution_count": 58,
   "id": "3ef38336-ed43-4ef9-8467-b4eb0b1fd91c",
   "metadata": {},
   "outputs": [],
   "source": [
    "df.to_csv(\"cleaned_data.csv\", index=False)"
   ]
  },
  {
   "cell_type": "markdown",
   "id": "bad61066-5df3-4e1b-bea0-4ab81c440faa",
   "metadata": {},
   "source": [
    "# Training"
   ]
  },
  {
   "cell_type": "code",
   "execution_count": 32,
   "id": "3627b2ca-7b98-499b-8e1a-a74d02b1b785",
   "metadata": {},
   "outputs": [],
   "source": [
    "x=df.drop(columns=['Price'])\n",
    "y=df['Price']"
   ]
  },
  {
   "cell_type": "code",
   "execution_count": 33,
   "id": "42f5956e-7221-4e87-9bd6-c91647c557a8",
   "metadata": {},
   "outputs": [],
   "source": [
    "from sklearn.model_selection import train_test_split\n",
    "from sklearn.preprocessing import OneHotEncoder\n",
    "from sklearn.compose import  ColumnTransformer\n",
    "from sklearn.pipeline import make_pipeline\n",
    "from sklearn.metrics import r2_score\n",
    "from sklearn.linear_model import LinearRegression\n",
    "from sklearn.preprocessing import StandardScaler\n"
   ]
  },
  {
   "cell_type": "code",
   "execution_count": 34,
   "id": "0e16fab5-96cf-4ece-91b2-d9c0c53de52b",
   "metadata": {},
   "outputs": [],
   "source": [
    "x_train,x_test,y_train,y_test=train_test_split(x,y,test_size=0.2)"
   ]
  },
  {
   "cell_type": "markdown",
   "id": "06a401d1-ff9d-4f5f-b5d3-59868c98d1d3",
   "metadata": {},
   "source": [
    "# Creating an OneHotEncoder object to contain all the possible categories"
   ]
  },
  {
   "cell_type": "code",
   "execution_count": 35,
   "id": "2edec204-beeb-41d9-a7aa-156f5a468d5a",
   "metadata": {},
   "outputs": [],
   "source": [
    "categorical = ['Title','Color','FuelType','Transmission','Assembly']\n",
    "numeric = ['Mileage','Model','EngineCapacity']"
   ]
  },
  {
   "cell_type": "code",
   "execution_count": 36,
   "id": "2041a1aa-fa70-4833-87eb-33c596104ae3",
   "metadata": {},
   "outputs": [],
   "source": [
    "#Creating a column transformer to transform categorical columns"
   ]
  },
  {
   "cell_type": "code",
   "execution_count": 42,
   "id": "f747aea4-db6e-4431-8dbb-be3c55300d71",
   "metadata": {},
   "outputs": [],
   "source": [
    "column_trans = ColumnTransformer([\n",
    "    ('cat', OneHotEncoder(handle_unknown='ignore'), categorical),\n",
    "    ('num', StandardScaler(), numeric)\n",
    "])"
   ]
  },
  {
   "cell_type": "code",
   "execution_count": 43,
   "id": "8b5e6b53-caaa-4add-986d-6b8b74708eec",
   "metadata": {},
   "outputs": [],
   "source": [
    "#Linear Regression Model\n",
    "lr=LinearRegression()"
   ]
  },
  {
   "cell_type": "code",
   "execution_count": 44,
   "id": "8aa79ba9-ac31-4189-854a-8bea72ea2f09",
   "metadata": {},
   "outputs": [],
   "source": [
    "# Making a pipeline\n",
    "pipe=make_pipeline(column_trans,lr)"
   ]
  },
  {
   "cell_type": "code",
   "execution_count": 45,
   "id": "635c55e3-e76f-4670-a94f-351dbe598c15",
   "metadata": {},
   "outputs": [
    {
     "data": {
      "text/html": [
       "<style>#sk-container-id-1 {\n",
       "  /* Definition of color scheme common for light and dark mode */\n",
       "  --sklearn-color-text: black;\n",
       "  --sklearn-color-line: gray;\n",
       "  /* Definition of color scheme for unfitted estimators */\n",
       "  --sklearn-color-unfitted-level-0: #fff5e6;\n",
       "  --sklearn-color-unfitted-level-1: #f6e4d2;\n",
       "  --sklearn-color-unfitted-level-2: #ffe0b3;\n",
       "  --sklearn-color-unfitted-level-3: chocolate;\n",
       "  /* Definition of color scheme for fitted estimators */\n",
       "  --sklearn-color-fitted-level-0: #f0f8ff;\n",
       "  --sklearn-color-fitted-level-1: #d4ebff;\n",
       "  --sklearn-color-fitted-level-2: #b3dbfd;\n",
       "  --sklearn-color-fitted-level-3: cornflowerblue;\n",
       "\n",
       "  /* Specific color for light theme */\n",
       "  --sklearn-color-text-on-default-background: var(--sg-text-color, var(--theme-code-foreground, var(--jp-content-font-color1, black)));\n",
       "  --sklearn-color-background: var(--sg-background-color, var(--theme-background, var(--jp-layout-color0, white)));\n",
       "  --sklearn-color-border-box: var(--sg-text-color, var(--theme-code-foreground, var(--jp-content-font-color1, black)));\n",
       "  --sklearn-color-icon: #696969;\n",
       "\n",
       "  @media (prefers-color-scheme: dark) {\n",
       "    /* Redefinition of color scheme for dark theme */\n",
       "    --sklearn-color-text-on-default-background: var(--sg-text-color, var(--theme-code-foreground, var(--jp-content-font-color1, white)));\n",
       "    --sklearn-color-background: var(--sg-background-color, var(--theme-background, var(--jp-layout-color0, #111)));\n",
       "    --sklearn-color-border-box: var(--sg-text-color, var(--theme-code-foreground, var(--jp-content-font-color1, white)));\n",
       "    --sklearn-color-icon: #878787;\n",
       "  }\n",
       "}\n",
       "\n",
       "#sk-container-id-1 {\n",
       "  color: var(--sklearn-color-text);\n",
       "}\n",
       "\n",
       "#sk-container-id-1 pre {\n",
       "  padding: 0;\n",
       "}\n",
       "\n",
       "#sk-container-id-1 input.sk-hidden--visually {\n",
       "  border: 0;\n",
       "  clip: rect(1px 1px 1px 1px);\n",
       "  clip: rect(1px, 1px, 1px, 1px);\n",
       "  height: 1px;\n",
       "  margin: -1px;\n",
       "  overflow: hidden;\n",
       "  padding: 0;\n",
       "  position: absolute;\n",
       "  width: 1px;\n",
       "}\n",
       "\n",
       "#sk-container-id-1 div.sk-dashed-wrapped {\n",
       "  border: 1px dashed var(--sklearn-color-line);\n",
       "  margin: 0 0.4em 0.5em 0.4em;\n",
       "  box-sizing: border-box;\n",
       "  padding-bottom: 0.4em;\n",
       "  background-color: var(--sklearn-color-background);\n",
       "}\n",
       "\n",
       "#sk-container-id-1 div.sk-container {\n",
       "  /* jupyter's `normalize.less` sets `[hidden] { display: none; }`\n",
       "     but bootstrap.min.css set `[hidden] { display: none !important; }`\n",
       "     so we also need the `!important` here to be able to override the\n",
       "     default hidden behavior on the sphinx rendered scikit-learn.org.\n",
       "     See: https://github.com/scikit-learn/scikit-learn/issues/21755 */\n",
       "  display: inline-block !important;\n",
       "  position: relative;\n",
       "}\n",
       "\n",
       "#sk-container-id-1 div.sk-text-repr-fallback {\n",
       "  display: none;\n",
       "}\n",
       "\n",
       "div.sk-parallel-item,\n",
       "div.sk-serial,\n",
       "div.sk-item {\n",
       "  /* draw centered vertical line to link estimators */\n",
       "  background-image: linear-gradient(var(--sklearn-color-text-on-default-background), var(--sklearn-color-text-on-default-background));\n",
       "  background-size: 2px 100%;\n",
       "  background-repeat: no-repeat;\n",
       "  background-position: center center;\n",
       "}\n",
       "\n",
       "/* Parallel-specific style estimator block */\n",
       "\n",
       "#sk-container-id-1 div.sk-parallel-item::after {\n",
       "  content: \"\";\n",
       "  width: 100%;\n",
       "  border-bottom: 2px solid var(--sklearn-color-text-on-default-background);\n",
       "  flex-grow: 1;\n",
       "}\n",
       "\n",
       "#sk-container-id-1 div.sk-parallel {\n",
       "  display: flex;\n",
       "  align-items: stretch;\n",
       "  justify-content: center;\n",
       "  background-color: var(--sklearn-color-background);\n",
       "  position: relative;\n",
       "}\n",
       "\n",
       "#sk-container-id-1 div.sk-parallel-item {\n",
       "  display: flex;\n",
       "  flex-direction: column;\n",
       "}\n",
       "\n",
       "#sk-container-id-1 div.sk-parallel-item:first-child::after {\n",
       "  align-self: flex-end;\n",
       "  width: 50%;\n",
       "}\n",
       "\n",
       "#sk-container-id-1 div.sk-parallel-item:last-child::after {\n",
       "  align-self: flex-start;\n",
       "  width: 50%;\n",
       "}\n",
       "\n",
       "#sk-container-id-1 div.sk-parallel-item:only-child::after {\n",
       "  width: 0;\n",
       "}\n",
       "\n",
       "/* Serial-specific style estimator block */\n",
       "\n",
       "#sk-container-id-1 div.sk-serial {\n",
       "  display: flex;\n",
       "  flex-direction: column;\n",
       "  align-items: center;\n",
       "  background-color: var(--sklearn-color-background);\n",
       "  padding-right: 1em;\n",
       "  padding-left: 1em;\n",
       "}\n",
       "\n",
       "\n",
       "/* Toggleable style: style used for estimator/Pipeline/ColumnTransformer box that is\n",
       "clickable and can be expanded/collapsed.\n",
       "- Pipeline and ColumnTransformer use this feature and define the default style\n",
       "- Estimators will overwrite some part of the style using the `sk-estimator` class\n",
       "*/\n",
       "\n",
       "/* Pipeline and ColumnTransformer style (default) */\n",
       "\n",
       "#sk-container-id-1 div.sk-toggleable {\n",
       "  /* Default theme specific background. It is overwritten whether we have a\n",
       "  specific estimator or a Pipeline/ColumnTransformer */\n",
       "  background-color: var(--sklearn-color-background);\n",
       "}\n",
       "\n",
       "/* Toggleable label */\n",
       "#sk-container-id-1 label.sk-toggleable__label {\n",
       "  cursor: pointer;\n",
       "  display: block;\n",
       "  width: 100%;\n",
       "  margin-bottom: 0;\n",
       "  padding: 0.5em;\n",
       "  box-sizing: border-box;\n",
       "  text-align: center;\n",
       "}\n",
       "\n",
       "#sk-container-id-1 label.sk-toggleable__label-arrow:before {\n",
       "  /* Arrow on the left of the label */\n",
       "  content: \"▸\";\n",
       "  float: left;\n",
       "  margin-right: 0.25em;\n",
       "  color: var(--sklearn-color-icon);\n",
       "}\n",
       "\n",
       "#sk-container-id-1 label.sk-toggleable__label-arrow:hover:before {\n",
       "  color: var(--sklearn-color-text);\n",
       "}\n",
       "\n",
       "/* Toggleable content - dropdown */\n",
       "\n",
       "#sk-container-id-1 div.sk-toggleable__content {\n",
       "  max-height: 0;\n",
       "  max-width: 0;\n",
       "  overflow: hidden;\n",
       "  text-align: left;\n",
       "  /* unfitted */\n",
       "  background-color: var(--sklearn-color-unfitted-level-0);\n",
       "}\n",
       "\n",
       "#sk-container-id-1 div.sk-toggleable__content.fitted {\n",
       "  /* fitted */\n",
       "  background-color: var(--sklearn-color-fitted-level-0);\n",
       "}\n",
       "\n",
       "#sk-container-id-1 div.sk-toggleable__content pre {\n",
       "  margin: 0.2em;\n",
       "  border-radius: 0.25em;\n",
       "  color: var(--sklearn-color-text);\n",
       "  /* unfitted */\n",
       "  background-color: var(--sklearn-color-unfitted-level-0);\n",
       "}\n",
       "\n",
       "#sk-container-id-1 div.sk-toggleable__content.fitted pre {\n",
       "  /* unfitted */\n",
       "  background-color: var(--sklearn-color-fitted-level-0);\n",
       "}\n",
       "\n",
       "#sk-container-id-1 input.sk-toggleable__control:checked~div.sk-toggleable__content {\n",
       "  /* Expand drop-down */\n",
       "  max-height: 200px;\n",
       "  max-width: 100%;\n",
       "  overflow: auto;\n",
       "}\n",
       "\n",
       "#sk-container-id-1 input.sk-toggleable__control:checked~label.sk-toggleable__label-arrow:before {\n",
       "  content: \"▾\";\n",
       "}\n",
       "\n",
       "/* Pipeline/ColumnTransformer-specific style */\n",
       "\n",
       "#sk-container-id-1 div.sk-label input.sk-toggleable__control:checked~label.sk-toggleable__label {\n",
       "  color: var(--sklearn-color-text);\n",
       "  background-color: var(--sklearn-color-unfitted-level-2);\n",
       "}\n",
       "\n",
       "#sk-container-id-1 div.sk-label.fitted input.sk-toggleable__control:checked~label.sk-toggleable__label {\n",
       "  background-color: var(--sklearn-color-fitted-level-2);\n",
       "}\n",
       "\n",
       "/* Estimator-specific style */\n",
       "\n",
       "/* Colorize estimator box */\n",
       "#sk-container-id-1 div.sk-estimator input.sk-toggleable__control:checked~label.sk-toggleable__label {\n",
       "  /* unfitted */\n",
       "  background-color: var(--sklearn-color-unfitted-level-2);\n",
       "}\n",
       "\n",
       "#sk-container-id-1 div.sk-estimator.fitted input.sk-toggleable__control:checked~label.sk-toggleable__label {\n",
       "  /* fitted */\n",
       "  background-color: var(--sklearn-color-fitted-level-2);\n",
       "}\n",
       "\n",
       "#sk-container-id-1 div.sk-label label.sk-toggleable__label,\n",
       "#sk-container-id-1 div.sk-label label {\n",
       "  /* The background is the default theme color */\n",
       "  color: var(--sklearn-color-text-on-default-background);\n",
       "}\n",
       "\n",
       "/* On hover, darken the color of the background */\n",
       "#sk-container-id-1 div.sk-label:hover label.sk-toggleable__label {\n",
       "  color: var(--sklearn-color-text);\n",
       "  background-color: var(--sklearn-color-unfitted-level-2);\n",
       "}\n",
       "\n",
       "/* Label box, darken color on hover, fitted */\n",
       "#sk-container-id-1 div.sk-label.fitted:hover label.sk-toggleable__label.fitted {\n",
       "  color: var(--sklearn-color-text);\n",
       "  background-color: var(--sklearn-color-fitted-level-2);\n",
       "}\n",
       "\n",
       "/* Estimator label */\n",
       "\n",
       "#sk-container-id-1 div.sk-label label {\n",
       "  font-family: monospace;\n",
       "  font-weight: bold;\n",
       "  display: inline-block;\n",
       "  line-height: 1.2em;\n",
       "}\n",
       "\n",
       "#sk-container-id-1 div.sk-label-container {\n",
       "  text-align: center;\n",
       "}\n",
       "\n",
       "/* Estimator-specific */\n",
       "#sk-container-id-1 div.sk-estimator {\n",
       "  font-family: monospace;\n",
       "  border: 1px dotted var(--sklearn-color-border-box);\n",
       "  border-radius: 0.25em;\n",
       "  box-sizing: border-box;\n",
       "  margin-bottom: 0.5em;\n",
       "  /* unfitted */\n",
       "  background-color: var(--sklearn-color-unfitted-level-0);\n",
       "}\n",
       "\n",
       "#sk-container-id-1 div.sk-estimator.fitted {\n",
       "  /* fitted */\n",
       "  background-color: var(--sklearn-color-fitted-level-0);\n",
       "}\n",
       "\n",
       "/* on hover */\n",
       "#sk-container-id-1 div.sk-estimator:hover {\n",
       "  /* unfitted */\n",
       "  background-color: var(--sklearn-color-unfitted-level-2);\n",
       "}\n",
       "\n",
       "#sk-container-id-1 div.sk-estimator.fitted:hover {\n",
       "  /* fitted */\n",
       "  background-color: var(--sklearn-color-fitted-level-2);\n",
       "}\n",
       "\n",
       "/* Specification for estimator info (e.g. \"i\" and \"?\") */\n",
       "\n",
       "/* Common style for \"i\" and \"?\" */\n",
       "\n",
       ".sk-estimator-doc-link,\n",
       "a:link.sk-estimator-doc-link,\n",
       "a:visited.sk-estimator-doc-link {\n",
       "  float: right;\n",
       "  font-size: smaller;\n",
       "  line-height: 1em;\n",
       "  font-family: monospace;\n",
       "  background-color: var(--sklearn-color-background);\n",
       "  border-radius: 1em;\n",
       "  height: 1em;\n",
       "  width: 1em;\n",
       "  text-decoration: none !important;\n",
       "  margin-left: 1ex;\n",
       "  /* unfitted */\n",
       "  border: var(--sklearn-color-unfitted-level-1) 1pt solid;\n",
       "  color: var(--sklearn-color-unfitted-level-1);\n",
       "}\n",
       "\n",
       ".sk-estimator-doc-link.fitted,\n",
       "a:link.sk-estimator-doc-link.fitted,\n",
       "a:visited.sk-estimator-doc-link.fitted {\n",
       "  /* fitted */\n",
       "  border: var(--sklearn-color-fitted-level-1) 1pt solid;\n",
       "  color: var(--sklearn-color-fitted-level-1);\n",
       "}\n",
       "\n",
       "/* On hover */\n",
       "div.sk-estimator:hover .sk-estimator-doc-link:hover,\n",
       ".sk-estimator-doc-link:hover,\n",
       "div.sk-label-container:hover .sk-estimator-doc-link:hover,\n",
       ".sk-estimator-doc-link:hover {\n",
       "  /* unfitted */\n",
       "  background-color: var(--sklearn-color-unfitted-level-3);\n",
       "  color: var(--sklearn-color-background);\n",
       "  text-decoration: none;\n",
       "}\n",
       "\n",
       "div.sk-estimator.fitted:hover .sk-estimator-doc-link.fitted:hover,\n",
       ".sk-estimator-doc-link.fitted:hover,\n",
       "div.sk-label-container:hover .sk-estimator-doc-link.fitted:hover,\n",
       ".sk-estimator-doc-link.fitted:hover {\n",
       "  /* fitted */\n",
       "  background-color: var(--sklearn-color-fitted-level-3);\n",
       "  color: var(--sklearn-color-background);\n",
       "  text-decoration: none;\n",
       "}\n",
       "\n",
       "/* Span, style for the box shown on hovering the info icon */\n",
       ".sk-estimator-doc-link span {\n",
       "  display: none;\n",
       "  z-index: 9999;\n",
       "  position: relative;\n",
       "  font-weight: normal;\n",
       "  right: .2ex;\n",
       "  padding: .5ex;\n",
       "  margin: .5ex;\n",
       "  width: min-content;\n",
       "  min-width: 20ex;\n",
       "  max-width: 50ex;\n",
       "  color: var(--sklearn-color-text);\n",
       "  box-shadow: 2pt 2pt 4pt #999;\n",
       "  /* unfitted */\n",
       "  background: var(--sklearn-color-unfitted-level-0);\n",
       "  border: .5pt solid var(--sklearn-color-unfitted-level-3);\n",
       "}\n",
       "\n",
       ".sk-estimator-doc-link.fitted span {\n",
       "  /* fitted */\n",
       "  background: var(--sklearn-color-fitted-level-0);\n",
       "  border: var(--sklearn-color-fitted-level-3);\n",
       "}\n",
       "\n",
       ".sk-estimator-doc-link:hover span {\n",
       "  display: block;\n",
       "}\n",
       "\n",
       "/* \"?\"-specific style due to the `<a>` HTML tag */\n",
       "\n",
       "#sk-container-id-1 a.estimator_doc_link {\n",
       "  float: right;\n",
       "  font-size: 1rem;\n",
       "  line-height: 1em;\n",
       "  font-family: monospace;\n",
       "  background-color: var(--sklearn-color-background);\n",
       "  border-radius: 1rem;\n",
       "  height: 1rem;\n",
       "  width: 1rem;\n",
       "  text-decoration: none;\n",
       "  /* unfitted */\n",
       "  color: var(--sklearn-color-unfitted-level-1);\n",
       "  border: var(--sklearn-color-unfitted-level-1) 1pt solid;\n",
       "}\n",
       "\n",
       "#sk-container-id-1 a.estimator_doc_link.fitted {\n",
       "  /* fitted */\n",
       "  border: var(--sklearn-color-fitted-level-1) 1pt solid;\n",
       "  color: var(--sklearn-color-fitted-level-1);\n",
       "}\n",
       "\n",
       "/* On hover */\n",
       "#sk-container-id-1 a.estimator_doc_link:hover {\n",
       "  /* unfitted */\n",
       "  background-color: var(--sklearn-color-unfitted-level-3);\n",
       "  color: var(--sklearn-color-background);\n",
       "  text-decoration: none;\n",
       "}\n",
       "\n",
       "#sk-container-id-1 a.estimator_doc_link.fitted:hover {\n",
       "  /* fitted */\n",
       "  background-color: var(--sklearn-color-fitted-level-3);\n",
       "}\n",
       "</style><div id=\"sk-container-id-1\" class=\"sk-top-container\"><div class=\"sk-text-repr-fallback\"><pre>Pipeline(steps=[(&#x27;columntransformer&#x27;,\n",
       "                 ColumnTransformer(transformers=[(&#x27;cat&#x27;,\n",
       "                                                  OneHotEncoder(handle_unknown=&#x27;ignore&#x27;),\n",
       "                                                  [&#x27;Title&#x27;, &#x27;Color&#x27;, &#x27;FuelType&#x27;,\n",
       "                                                   &#x27;Transmission&#x27;,\n",
       "                                                   &#x27;Assembly&#x27;]),\n",
       "                                                 (&#x27;num&#x27;, StandardScaler(),\n",
       "                                                  [&#x27;Mileage&#x27;, &#x27;Model&#x27;,\n",
       "                                                   &#x27;EngineCapacity&#x27;])])),\n",
       "                (&#x27;linearregression&#x27;, LinearRegression())])</pre><b>In a Jupyter environment, please rerun this cell to show the HTML representation or trust the notebook. <br />On GitHub, the HTML representation is unable to render, please try loading this page with nbviewer.org.</b></div><div class=\"sk-container\" hidden><div class=\"sk-item sk-dashed-wrapped\"><div class=\"sk-label-container\"><div class=\"sk-label fitted sk-toggleable\"><input class=\"sk-toggleable__control sk-hidden--visually\" id=\"sk-estimator-id-1\" type=\"checkbox\" ><label for=\"sk-estimator-id-1\" class=\"sk-toggleable__label fitted sk-toggleable__label-arrow fitted\">&nbsp;&nbsp;Pipeline<a class=\"sk-estimator-doc-link fitted\" rel=\"noreferrer\" target=\"_blank\" href=\"https://scikit-learn.org/1.5/modules/generated/sklearn.pipeline.Pipeline.html\">?<span>Documentation for Pipeline</span></a><span class=\"sk-estimator-doc-link fitted\">i<span>Fitted</span></span></label><div class=\"sk-toggleable__content fitted\"><pre>Pipeline(steps=[(&#x27;columntransformer&#x27;,\n",
       "                 ColumnTransformer(transformers=[(&#x27;cat&#x27;,\n",
       "                                                  OneHotEncoder(handle_unknown=&#x27;ignore&#x27;),\n",
       "                                                  [&#x27;Title&#x27;, &#x27;Color&#x27;, &#x27;FuelType&#x27;,\n",
       "                                                   &#x27;Transmission&#x27;,\n",
       "                                                   &#x27;Assembly&#x27;]),\n",
       "                                                 (&#x27;num&#x27;, StandardScaler(),\n",
       "                                                  [&#x27;Mileage&#x27;, &#x27;Model&#x27;,\n",
       "                                                   &#x27;EngineCapacity&#x27;])])),\n",
       "                (&#x27;linearregression&#x27;, LinearRegression())])</pre></div> </div></div><div class=\"sk-serial\"><div class=\"sk-item sk-dashed-wrapped\"><div class=\"sk-label-container\"><div class=\"sk-label fitted sk-toggleable\"><input class=\"sk-toggleable__control sk-hidden--visually\" id=\"sk-estimator-id-2\" type=\"checkbox\" ><label for=\"sk-estimator-id-2\" class=\"sk-toggleable__label fitted sk-toggleable__label-arrow fitted\">&nbsp;columntransformer: ColumnTransformer<a class=\"sk-estimator-doc-link fitted\" rel=\"noreferrer\" target=\"_blank\" href=\"https://scikit-learn.org/1.5/modules/generated/sklearn.compose.ColumnTransformer.html\">?<span>Documentation for columntransformer: ColumnTransformer</span></a></label><div class=\"sk-toggleable__content fitted\"><pre>ColumnTransformer(transformers=[(&#x27;cat&#x27;, OneHotEncoder(handle_unknown=&#x27;ignore&#x27;),\n",
       "                                 [&#x27;Title&#x27;, &#x27;Color&#x27;, &#x27;FuelType&#x27;, &#x27;Transmission&#x27;,\n",
       "                                  &#x27;Assembly&#x27;]),\n",
       "                                (&#x27;num&#x27;, StandardScaler(),\n",
       "                                 [&#x27;Mileage&#x27;, &#x27;Model&#x27;, &#x27;EngineCapacity&#x27;])])</pre></div> </div></div><div class=\"sk-parallel\"><div class=\"sk-parallel-item\"><div class=\"sk-item\"><div class=\"sk-label-container\"><div class=\"sk-label fitted sk-toggleable\"><input class=\"sk-toggleable__control sk-hidden--visually\" id=\"sk-estimator-id-3\" type=\"checkbox\" ><label for=\"sk-estimator-id-3\" class=\"sk-toggleable__label fitted sk-toggleable__label-arrow fitted\">cat</label><div class=\"sk-toggleable__content fitted\"><pre>[&#x27;Title&#x27;, &#x27;Color&#x27;, &#x27;FuelType&#x27;, &#x27;Transmission&#x27;, &#x27;Assembly&#x27;]</pre></div> </div></div><div class=\"sk-serial\"><div class=\"sk-item\"><div class=\"sk-estimator fitted sk-toggleable\"><input class=\"sk-toggleable__control sk-hidden--visually\" id=\"sk-estimator-id-4\" type=\"checkbox\" ><label for=\"sk-estimator-id-4\" class=\"sk-toggleable__label fitted sk-toggleable__label-arrow fitted\">&nbsp;OneHotEncoder<a class=\"sk-estimator-doc-link fitted\" rel=\"noreferrer\" target=\"_blank\" href=\"https://scikit-learn.org/1.5/modules/generated/sklearn.preprocessing.OneHotEncoder.html\">?<span>Documentation for OneHotEncoder</span></a></label><div class=\"sk-toggleable__content fitted\"><pre>OneHotEncoder(handle_unknown=&#x27;ignore&#x27;)</pre></div> </div></div></div></div></div><div class=\"sk-parallel-item\"><div class=\"sk-item\"><div class=\"sk-label-container\"><div class=\"sk-label fitted sk-toggleable\"><input class=\"sk-toggleable__control sk-hidden--visually\" id=\"sk-estimator-id-5\" type=\"checkbox\" ><label for=\"sk-estimator-id-5\" class=\"sk-toggleable__label fitted sk-toggleable__label-arrow fitted\">num</label><div class=\"sk-toggleable__content fitted\"><pre>[&#x27;Mileage&#x27;, &#x27;Model&#x27;, &#x27;EngineCapacity&#x27;]</pre></div> </div></div><div class=\"sk-serial\"><div class=\"sk-item\"><div class=\"sk-estimator fitted sk-toggleable\"><input class=\"sk-toggleable__control sk-hidden--visually\" id=\"sk-estimator-id-6\" type=\"checkbox\" ><label for=\"sk-estimator-id-6\" class=\"sk-toggleable__label fitted sk-toggleable__label-arrow fitted\">&nbsp;StandardScaler<a class=\"sk-estimator-doc-link fitted\" rel=\"noreferrer\" target=\"_blank\" href=\"https://scikit-learn.org/1.5/modules/generated/sklearn.preprocessing.StandardScaler.html\">?<span>Documentation for StandardScaler</span></a></label><div class=\"sk-toggleable__content fitted\"><pre>StandardScaler()</pre></div> </div></div></div></div></div></div></div><div class=\"sk-item\"><div class=\"sk-estimator fitted sk-toggleable\"><input class=\"sk-toggleable__control sk-hidden--visually\" id=\"sk-estimator-id-7\" type=\"checkbox\" ><label for=\"sk-estimator-id-7\" class=\"sk-toggleable__label fitted sk-toggleable__label-arrow fitted\">&nbsp;LinearRegression<a class=\"sk-estimator-doc-link fitted\" rel=\"noreferrer\" target=\"_blank\" href=\"https://scikit-learn.org/1.5/modules/generated/sklearn.linear_model.LinearRegression.html\">?<span>Documentation for LinearRegression</span></a></label><div class=\"sk-toggleable__content fitted\"><pre>LinearRegression()</pre></div> </div></div></div></div></div></div>"
      ],
      "text/plain": [
       "Pipeline(steps=[('columntransformer',\n",
       "                 ColumnTransformer(transformers=[('cat',\n",
       "                                                  OneHotEncoder(handle_unknown='ignore'),\n",
       "                                                  ['Title', 'Color', 'FuelType',\n",
       "                                                   'Transmission',\n",
       "                                                   'Assembly']),\n",
       "                                                 ('num', StandardScaler(),\n",
       "                                                  ['Mileage', 'Model',\n",
       "                                                   'EngineCapacity'])])),\n",
       "                ('linearregression', LinearRegression())])"
      ]
     },
     "execution_count": 45,
     "metadata": {},
     "output_type": "execute_result"
    }
   ],
   "source": [
    "# Fitting the model.\n",
    "pipe.fit(x_train,y_train)"
   ]
  },
  {
   "cell_type": "code",
   "execution_count": 46,
   "id": "9657511b-7aa0-4a18-adb5-e8c2d464e601",
   "metadata": {},
   "outputs": [],
   "source": [
    "y_pred=pipe.predict(x_test)"
   ]
  },
  {
   "cell_type": "code",
   "execution_count": 47,
   "id": "dc65367f-83c9-4725-84fe-994fc9878677",
   "metadata": {},
   "outputs": [
    {
     "data": {
      "text/plain": [
       "0.8366565463225575"
      ]
     },
     "execution_count": 47,
     "metadata": {},
     "output_type": "execute_result"
    }
   ],
   "source": [
    "# Checking R2 Score\n",
    "r2_score(y_test,y_pred)\n"
   ]
  },
  {
   "cell_type": "code",
   "execution_count": 48,
   "id": "0b33cf53-5430-42b4-ba83-c913cd4f9a3b",
   "metadata": {},
   "outputs": [],
   "source": [
    "# Finding the model with a random state of TrainTestSplit where the model was found to give almost 0.92 as r2_score"
   ]
  },
  {
   "cell_type": "code",
   "execution_count": 49,
   "id": "fc44a228-646b-4a78-80a1-445b9e9c9ba8",
   "metadata": {},
   "outputs": [],
   "source": [
    "scores=[]\n",
    "for i in range(1000):\n",
    "    x_train,x_test,y_train,y_test=train_test_split(x,y,test_size=0.1,random_state=i)\n",
    "    lr=LinearRegression()\n",
    "    pipe=make_pipeline(column_trans,lr)\n",
    "    pipe.fit(x_train,y_train)\n",
    "    y_pred=pipe.predict(x_test)\n",
    "    scores.append(r2_score(y_test,y_pred))"
   ]
  },
  {
   "cell_type": "code",
   "execution_count": 50,
   "id": "6cff84d0-9064-47bc-967c-f2e6e25f5e12",
   "metadata": {},
   "outputs": [
    {
     "data": {
      "text/plain": [
       "219"
      ]
     },
     "execution_count": 50,
     "metadata": {},
     "output_type": "execute_result"
    }
   ],
   "source": [
    "np.argmax(scores)"
   ]
  },
  {
   "cell_type": "code",
   "execution_count": 51,
   "id": "13e8d5bb-c5cc-44b9-a15b-7a4f0c8387d0",
   "metadata": {},
   "outputs": [
    {
     "data": {
      "text/plain": [
       "0.9228633174055647"
      ]
     },
     "execution_count": 51,
     "metadata": {},
     "output_type": "execute_result"
    }
   ],
   "source": [
    "scores[np.argmax(scores)]"
   ]
  },
  {
   "cell_type": "code",
   "execution_count": 52,
   "id": "c2300c9b-09b3-46ec-a733-39eb9cacc7f0",
   "metadata": {},
   "outputs": [
    {
     "data": {
      "text/plain": [
       "0.9228633174055647"
      ]
     },
     "execution_count": 52,
     "metadata": {},
     "output_type": "execute_result"
    }
   ],
   "source": [
    "x_train,x_test,y_train,y_test=train_test_split(x,y,test_size=0.1,random_state=np.argmax(scores))\n",
    "lr=LinearRegression()\n",
    "pipe=make_pipeline(column_trans,lr)\n",
    "pipe.fit(x_train,y_train)\n",
    "y_pred=pipe.predict(x_test)\n",
    "r2_score(y_test,y_pred)"
   ]
  },
  {
   "cell_type": "code",
   "execution_count": 55,
   "id": "a31bc121-3af0-4f3b-b244-5e89018de9a0",
   "metadata": {},
   "outputs": [
    {
     "data": {
      "text/plain": [
       "array([3210767.41291173])"
      ]
     },
     "execution_count": 55,
     "metadata": {},
     "output_type": "execute_result"
    }
   ],
   "source": [
    "pipe.predict(pd.DataFrame([['Suzuki Swift DLX',53602,2021,'Pearl Red',1300,'Petrol','Automatic','Local'\t]],columns=['Title','Mileage','Model','Color','EngineCapacity','FuelType','Transmission','Assembly']))"
   ]
  },
  {
   "cell_type": "code",
   "execution_count": 56,
   "id": "a456c42f-4087-4561-a5ae-03072766b99a",
   "metadata": {},
   "outputs": [],
   "source": [
    "import pickle"
   ]
  },
  {
   "cell_type": "code",
   "execution_count": 57,
   "id": "923179d8-fd08-4a70-8ab0-cd38b5971d76",
   "metadata": {},
   "outputs": [],
   "source": [
    "pickle.dump(pipe,open('LinearRegressionModel.pkl','wb'))"
   ]
  },
  {
   "cell_type": "code",
   "execution_count": null,
   "id": "53b9f187-6782-43d3-8d0f-1ff69f317cea",
   "metadata": {},
   "outputs": [],
   "source": []
  }
 ],
 "metadata": {
  "kernelspec": {
   "display_name": "Python 3 (ipykernel)",
   "language": "python",
   "name": "python3"
  },
  "language_info": {
   "codemirror_mode": {
    "name": "ipython",
    "version": 3
   },
   "file_extension": ".py",
   "mimetype": "text/x-python",
   "name": "python",
   "nbconvert_exporter": "python",
   "pygments_lexer": "ipython3",
   "version": "3.12.7"
  }
 },
 "nbformat": 4,
 "nbformat_minor": 5
}
